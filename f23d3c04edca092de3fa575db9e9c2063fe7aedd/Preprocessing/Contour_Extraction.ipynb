{
 "cells": [
  {
   "cell_type": "markdown",
   "metadata": {},
   "source": [
    "# Contour Extraction"
   ]
  },
  {
   "cell_type": "code",
   "execution_count": 1,
   "metadata": {},
   "outputs": [],
   "source": [
    "import pydicom as dcm\n",
    "import numpy as np\n",
    "from matplotlib import pyplot as plt\n",
    "import os\n",
    "import struct\n",
    "import cv2"
   ]
  },
  {
   "cell_type": "markdown",
   "metadata": {},
   "source": [
    "#### First set the output frame size and define the path to our DICOM files"
   ]
  },
  {
   "cell_type": "code",
   "execution_count": 179,
   "metadata": {},
   "outputs": [],
   "source": [
    "%matplotlib inline    \n",
    "plt.rcParams['figure.figsize']=(7,7)\n",
    "PATH = \"C:/Users/Maxwell/Desktop/Pat2\""
   ]
  },
  {
   "cell_type": "markdown",
   "metadata": {},
   "source": [
    "#### Defining Important Fucntions"
   ]
  },
  {
   "cell_type": "code",
   "execution_count": 224,
   "metadata": {},
   "outputs": [],
   "source": [
    "def extract_crop(img,contour):\n",
    "    cnt = np.array(contour,np.int32) #extract contour data [[x1,y1],[x2,y2],...]\n",
    "    bdRct=cv2.boundingRect(cnt) #set bounding rectangle for region of interest\n",
    "    cropped = img[bdRct[1]:bdRct[1]+bdRct[3],bdRct[0]:bdRct[0]+bdRct[2]].copy() #crop 'img' using bounding rectangle\n",
    "    shftCntPts = cnt - cnt.min(axis=0)#shift the contour points to points in cropped 'img'\n",
    "    \n",
    "    msk = np.zeros(cropped.shape) #initialize zeros\n",
    "    cv2.drawContours(msk,[shftCntPts],-1,1,thickness=cv2.FILLED,lineType=cv2.LINE_AA) #generate mask\n",
    "    mskCrop = cropped*msk #apply mask onto cropped image\n",
    "\n",
    "    return mskCrop    "
   ]
  },
  {
   "cell_type": "code",
   "execution_count": 214,
   "metadata": {},
   "outputs": [],
   "source": [
    "def readGraphicAnnotationSequence(dcmFile):\n",
    "    #if (\"GraphicAnnotationSequence\" in sliceDcm): #if 'GraphicAnnotationSequence' attribute exists in DICOM slice\n",
    "    #    print(\"Attribute Here!!!\")\n",
    "    return None"
   ]
  },
  {
   "cell_type": "code",
   "execution_count": 207,
   "metadata": {},
   "outputs": [],
   "source": [
    "def readCurveData(dcmFile):\n",
    "        \n",
    "    if \"CurveData\"  not in sliceDcm.dir():\n",
    "        return None\n",
    "    \n",
    "    #assuming >1 curve data exists\n",
    "    \n",
    "    curveLst=[]\n",
    "    \n",
    "    i = 0\n",
    "    while (0x5000+(i*2),0x3000) in sliceDcm:\n",
    "        contourBytes = sliceDcm[0x5000+(i*2),0x3000].value #get OD bytestream\n",
    "        #more info see mxtsai.github.io/sheba.html > Preprocessing (password:  rsch  )\n",
    "        \n",
    "        conLen = (sliceDcm[0x5000+(i*2),0x0010].value)*2 #(x,y) counted a pair but need account both individually\n",
    "        contXY = struct.unpack('f'*conLen,contourBytes) #the contour array in [x1,y1,x2,y2,...] format\n",
    "\n",
    "        cnt = np.array([(int(contXY[i]),int(contXY[i+1])) for i in range(0,len(contXY),2)]) #organized contour array for cropping\n",
    "        \n",
    "        curveLst.append(cnt)\n",
    "        i+=2\n",
    "    \n",
    "    return curveLst"
   ]
  },
  {
   "cell_type": "markdown",
   "metadata": {},
   "source": [
    "#### Loop through all images in a DICOM folder"
   ]
  },
  {
   "cell_type": "code",
   "execution_count": 229,
   "metadata": {},
   "outputs": [],
   "source": [
    "contourSet = [] #list to hold dicom layers\n",
    "scanInfo = {} #dictionary to hold current scan's info \n",
    "\n",
    "for filename in os.listdir(PATH): #going thru each slice in PATH folder\n",
    "    \n",
    "    sliceDcm = dcm.dcmread(PATH+\"/\"+filename,force=True) #reading slice into pydicom\n",
    "    \n",
    "    slicePixel = sliceDcm.pixel_array #obtain pixel info of current slice\n",
    "    \n",
    "    if not scanInfo: #if the current scan's info is not recorded\n",
    "        scanInfo[\"ID\"] = sliceDcm.PatientID\n",
    "        \n",
    "    sliceOut = readCurveData(sliceDcm) #a list of curve datas if any\n",
    "    \n",
    "    if sliceOut != None:\n",
    "        #there is a contour in this slice\n",
    "        \n",
    "        #will be problem here if 2 slices\n",
    "        #will solve in future\n",
    "        for curve in sliceOut: #each curve in a dicom slice\n",
    "            crp=extract_crop(slicePixel,curve)\n",
    "            contourSet.append(crp)\n",
    "        "
   ]
  },
  {
   "cell_type": "code",
   "execution_count": 233,
   "metadata": {},
   "outputs": [
    {
     "data": {
      "text/plain": [
       "<matplotlib.image.AxesImage at 0x1505e1347f0>"
      ]
     },
     "execution_count": 233,
     "metadata": {},
     "output_type": "execute_result"
    },
    {
     "data": {
      "image/png": "[encoded data removed]",
      "text/plain": [
       "<Figure size 504x504 with 1 Axes>"
      ]
     },
     "metadata": {},
     "output_type": "display_data"
    }
   ],
   "source": [
    "plt.imshow(contourSet[1])"
   ]
  }
 ],
 "metadata": {
  "kernelspec": {
   "display_name": "Python 3",
   "language": "python",
   "name": "python3"
  },
  "language_info": {
   "codemirror_mode": {
    "name": "ipython",
    "version": 3
   },
   "file_extension": ".py",
   "mimetype": "text/x-python",
   "name": "python",
   "nbconvert_exporter": "python",
   "pygments_lexer": "ipython3",
   "version": "3.6.5"
  }
 },
 "nbformat": 4,
 "nbformat_minor": 2
}
